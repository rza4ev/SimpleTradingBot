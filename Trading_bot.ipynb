{
  "cells": [
    {
      "cell_type": "markdown",
      "metadata": {},
      "source": [
        "### Simple BTC TRADING BOT ###"
      ]
    },
    {
      "cell_type": "code",
      "execution_count": 53,
      "metadata": {},
      "outputs": [],
      "source": [
        "from binance import Client  # Import the Client class from the binance module\n",
        "import csv  # Import the csv module\n",
        "import pandas as pd  # Import the pandas library \n",
        "from datetime import datetime as dt  # Import the datetime class from the datetime module and alias it as dt (it depends on your choice )\n",
        "client=Client(None,None)  # Create a Binance client instance with None as API key and secret key\n"
      ]
    },
    {
      "cell_type": "code",
      "execution_count": 46,
      "metadata": {
        "id": "ed3sneLXE674"
      },
      "outputs": [],
      "source": [
        "# create a new function to get data for the specified symbol, period, start date, and end date\n",
        "def get_data(symbol, period, start_date, end_date):\n",
        "    # Get historical klines data for the specified symbol, period, start date, and end date\n",
        "    data_coin = client.get_historical_klines(symbol, period, start_date, end_date)\n",
        "    # Return the obtained data\n",
        "    return data_coin\n"
      ]
    },
    {
      "cell_type": "code",
      "execution_count": 47,
      "metadata": {
        "colab": {
          "background_save": true,
          "base_uri": "https://localhost:8080/"
        },
        "id": "uzxjVhQ39NL0",
        "outputId": "25f5f0df-5e38-4329-87c1-744b7787d736"
      },
      "outputs": [],
      "source": [
        "def create_csv(symbol, data_coin): # create new function our csv file\n",
        "    # open a csv file for writing with the specified symbol in the filename\n",
        "    csvfile = open(symbol + 'CSV', 'w', newline='')\n",
        "    # create a csv  writer object with comma as the delimiter\n",
        "    writer = csv.writer(csvfile, delimiter=',')\n",
        "    # iterate over each row of data in the data_coin list\n",
        "    for data1 in data_coin:\n",
        "        # write each row of data to the csv file\n",
        "        writer.writerow(data1)\n",
        "    # close the csv file\n",
        "    csvfile.close()"
      ]
    },
    {
      "cell_type": "code",
      "execution_count": 48,
      "metadata": {},
      "outputs": [],
      "source": [
        "create_csv('BTCUSDT',get_data('BTCUSDT',client.KLINE_INTERVAL_1DAY,'10 March 2018','10 March 2024')) # call the above function"
      ]
    },
    {
      "cell_type": "code",
      "execution_count": 54,
      "metadata": {},
      "outputs": [
        {
          "name": "stdout",
          "output_type": "stream",
          "text": [
            "          Open_time      Open      High       Low     Close        Volume  \\\n",
            "0     1520640000000   9230.00   9490.00   8667.07   8770.22  37180.012857   \n",
            "1     1520726400000   8770.22   9740.00   8450.00   9533.57  44325.973386   \n",
            "2     1520812800000   9533.57   9888.88   8780.00   9131.34  42230.777930   \n",
            "3     1520899200000   9131.34   9474.00   8823.00   9150.00  40191.409358   \n",
            "4     1520985600000   9151.92   9333.78   7900.28   8170.00  49708.094108   \n",
            "...             ...       ...       ...       ...       ...           ...   \n",
            "2188  1709683200000  63724.01  67641.10  62779.14  66074.04  78738.854910   \n",
            "2189  1709769600000  66074.04  67980.00  65551.00  66823.17  53059.886900   \n",
            "2190  1709856000000  66823.18  69990.00  66082.66  68124.19  74261.932842   \n",
            "2191  1709942400000  68124.20  68541.10  67861.10  68313.27  19872.897430   \n",
            "2192  1710028800000  68313.28  69887.61  68094.75  68955.88  38404.668350   \n",
            "\n",
            "         Close time         Qavol  Numoftr  Tabuy_volume  Takquoteassetvolume  \\\n",
            "0     1520726399999  3.412102e+08   288066  17639.827276         1.619918e+08   \n",
            "1     1520812799999  4.034913e+08   333367  21150.206944         1.928976e+08   \n",
            "2     1520899199999  3.955627e+08   336642  19369.697756         1.814546e+08   \n",
            "3     1520985599999  3.673540e+08   342734  19856.457047         1.815344e+08   \n",
            "4     1521071999999  4.260580e+08   399127  22883.329725         1.963442e+08   \n",
            "...             ...           ...      ...           ...                  ...   \n",
            "2188  1709769599999  5.197743e+09  3302981  40344.325960         2.663883e+09   \n",
            "2189  1709855999999  3.548088e+09  2428227  27935.663020         1.867855e+09   \n",
            "2190  1709942399999  5.044395e+09  2943927  37711.514581         2.563348e+09   \n",
            "2191  1710028799999  1.355964e+09  1345341  10005.592000         6.827203e+08   \n",
            "2192  1710115199999  2.659308e+09  2139518  19188.799040         1.328748e+09   \n",
            "\n",
            "      Ignore  \n",
            "0          0  \n",
            "1          0  \n",
            "2          0  \n",
            "3          0  \n",
            "4          0  \n",
            "...      ...  \n",
            "2188       0  \n",
            "2189       0  \n",
            "2190       0  \n",
            "2191       0  \n",
            "2192       0  \n",
            "\n",
            "[2193 rows x 12 columns]\n"
          ]
        }
      ],
      "source": [
        "# define a function to create a dataFrame from a csv file\n",
        "def create_dataframe(filename, columns):\n",
        "    # read the csv file into a DataFrame with the specified column names\n",
        "    df = pd.read_csv(filename, names=columns)\n",
        "    # Return the DataFrame\n",
        "    return df\n",
        "\n",
        "# Define the column names for the dataFrame\n",
        "cols = ['Open_time', 'Open', 'High', 'Low', 'Close', 'Volume', 'Close time', 'Qavol', 'Numoftr', 'Tabuy_volume', 'Takquoteassetvolume', 'Ignore']\n",
        "\n",
        "# make sure 'BTCUSDT.csv' is the correct filename and it exists in your directory\n",
        "# Create a DataFrame using the create_dataframe function\n",
        "df = create_dataframe('BTCUSDTCSV', cols)\n",
        "# print the DataFrame\n",
        "print(df)\n"
      ]
    },
    {
      "cell_type": "markdown",
      "metadata": {},
      "source": []
    },
    {
      "cell_type": "code",
      "execution_count": 51,
      "metadata": {},
      "outputs": [],
      "source": [
        "from datetime import datetime as dt\n",
        "# converting datetime\n",
        "def convert_time(timestamp):\n",
        "    return dt.fromtimestamp(timestamp / 1000)  # Since Binance trade time works in milliseconds, we need to divide this by 1000 and in this case we will reduce the timestamp by 3 digits.\n"
      ]
    },
    {
      "cell_type": "code",
      "execution_count": 56,
      "metadata": {
        "id": "jR8fgDsH9NX_"
      },
      "outputs": [
        {
          "name": "stdout",
          "output_type": "stream",
          "text": [
            " ******  STARTING *******\n",
            "2019-04-25 04:00:00 is that time 0.018467220683287166  BUYING BTC\n",
            "********\n",
            "2019-10-27 04:00:00 is that time 0.018467220683287166  selling BTC\n",
            "********\n",
            "Last result: 170.45244690674053\n",
            "2020-02-19 04:00:00 is that time 0.016769041803134623  BUYING BTC\n",
            "********\n",
            "2020-03-26 04:00:00 is that time 0.016769041803134623  selling BTC\n",
            "********\n",
            "Last result: 111.97410280750523\n",
            "2020-05-22 04:00:00 is that time 0.012347383878251475  BUYING BTC\n",
            "********\n",
            "2021-06-20 04:00:00 is that time 0.012347383878251475  selling BTC\n",
            "********\n",
            "Last result: 438.1311122683894\n",
            "2021-09-16 04:00:00 is that time 0.009104702299213372  BUYING BTC\n",
            "********\n",
            "2022-01-15 04:00:00 is that time 0.009104702299213372  selling BTC\n",
            "********\n",
            "Last result: 392.0481168160358\n",
            "2023-02-08 04:00:00 is that time 0.01686920641054591  BUYING BTC\n",
            "********\n",
            "2023-09-13 04:00:00 is that time 0.01686920641054591  selling BTC\n",
            "********\n",
            "Last result: 435.9019805691474\n",
            "2023-10-31 04:00:00 is that time 0.012644101362625533  BUYING BTC\n",
            "********\n",
            "Sum of proceddure:11\n",
            "Sum of comission 3.2692648542686054\n",
            "Sum of wallet 435.9019805691474\n"
          ]
        }
      ],
      "source": [
        "import pandas_ta as ta  # import the pandas_ta library with the alias ta\n",
        "\n",
        "def Golden_BACKtest():  # Define a function named Golden_BACKtest\n",
        "    wallet = 100  # Initialize the wallet balance to 100\n",
        "    count_of_buy = 0  # Initialize the count of buy orders to 0\n",
        "    count_of_sells = 0  # Initialize the count of sell orders to 0\n",
        "    sum_of_coin = 0  # Initialize the sum of coins to 0\n",
        "    comission_percentage = 75 / 10000  # Calculate the commission percentage\n",
        "    my_csv = 'BTCUSDTCSV'  # Set the CSV file name\n",
        "    headings = ['Open_time', 'Open', 'High', 'Low', 'Close', 'Volume',  # Define column headings for the csv file\n",
        "                'Close time', 'Qavol', 'Numoftr', 'Tabuy_volume', 'Takquoteassetvolume', 'Ignore']\n",
        "    df = pd.read_csv(my_csv, names=headings)  # Read the CSV file into a DataFrame\n",
        "    # extract the  columns from the DataFrame\n",
        "    open = df['Open']  \n",
        "    close = df['Close']  \n",
        "    high = df['High']  \n",
        "    low = df['Low'] \n",
        "    open_time = df['Open_time']  \n",
        "    close_time = df['Close time'] \n",
        "    sma50 = ta.ma('sma', close, length=50)  # Calculate the 50-day simple moving average\n",
        "    sma200 = ta.ma('sma', close, length=200)  # Calculate the 200-day simple moving average\n",
        "\n",
        "    print(' ******  STARTING *******')  # Print a message indicating the start of the process\n",
        "    for i in range(len(close)):  # Iterate over each data point in the 'Close' column\n",
        "        # Check if sma50 and sma200 are not None\n",
        "        if pd.isna(sma50[i]) is False and pd.isna(sma200[i]) is False:\n",
        "            # Check if the condition for buying is met\n",
        "            if sma50[i - 1] < sma200[i - 1] and sma50[i] > sma200[i]: ### --->>>  positive crossover <<<<-\n",
        "                # Print a message indicating the buy order\n",
        "                print(convert_time(open_time[i + 1]), 'is that time', wallet / close[i], ' BUYING BTC')\n",
        "                print('********')  # Print a separator\n",
        "                count_of_buy += 1  # Increment the count of buy orders\n",
        "                sum_of_coin = wallet / close[i]  # Calculate the sum of coins\n",
        "                payyed_comission = comission_percentage * wallet  # Calculate the commission paid\n",
        "            # check if the condition for selling is met\n",
        "            if sma50[i - 1] > sma200[i - 1] and sma50[i] < sma200[i] and count_of_buy > 0: ### --->>>  \"negative crossover <<<<-\n",
        "                # Print a message indicating the sell order\n",
        "                print(convert_time(open_time[i + 1]), 'is that time', sum_of_coin, ' selling BTC')\n",
        "                print('********')  # print a separator\n",
        "                count_of_sells += 1  # increment the count of sell orders\n",
        "                price = close[i] * sum_of_coin  # Calculate the total price\n",
        "                wallet = price  # Update the wallet balance\n",
        "                sum_of_coin = 0  # Reset the sum of coins\n",
        "                payyed_comission = comission_percentage + wallet  # Calculate the commission paid\n",
        "                print(f'Last result: {wallet}')  # Print the last result\n",
        "    print(f'Sum of proceddure:{count_of_buy + count_of_sells}')  # Print the sum of procedures\n",
        "    print(f'Sum of comission {payyed_comission}')  # Print the sum of commission\n",
        "    print(f'Sum of wallet {wallet}')  # Print the sum of the wallet\n",
        "\n",
        "# Call the function to execute\n",
        "Golden_BACKtest()\n",
        "\n",
        "\n",
        "    "
      ]
    },
    {
      "cell_type": "markdown",
      "metadata": {},
      "source": [
        "Conclusion\n",
        "\n",
        "\n",
        "\n",
        "\n",
        "The project involved backtesting a trading strategy known as the \"Golden Cross\" on historical Bitcoin price data. The strategy identifies buy and sell signals based on the crossover of two moving averages: the 50-day simple moving average (SMA50) and the 200-day simple moving average (SMA200).\n",
        "\n",
        "The backtesting process was initiated, and a series of buy and sell signals were generated based on the Golden Cross criteria. Each signal included the timestamp of the event, the action taken (buying or selling BTC), and the resulting wallet balance in USD after the transaction.\n",
        "\n",
        "The analysis revealed several instances where the Golden Cross signal prompted buying BTC, followed by subsequent sell signals. Each transaction resulted in changes to the wallet balance, reflecting the profitability of the trading strategy.\n",
        "\n",
        "Overall, the backtesting process executed a total of 11 trading procedures during the specified period. The total commission paid for these transactions amounted to 3.2692648542686054 USD. The project concluded with a final wallet balance of 435.9019805691474 USD.\n",
        "total profit=435.9019805691474 -100 =335.90128..."
      ]
    },
    {
      "cell_type": "markdown",
      "metadata": {},
      "source": []
    }
  ],
  "metadata": {
    "colab": {
      "name": "Trading bot.ipynb",
      "provenance": []
    },
    "kernelspec": {
      "display_name": "Python 3",
      "name": "python3"
    },
    "language_info": {
      "codemirror_mode": {
        "name": "ipython",
        "version": 3
      },
      "file_extension": ".py",
      "mimetype": "text/x-python",
      "name": "python",
      "nbconvert_exporter": "python",
      "pygments_lexer": "ipython3",
      "version": "3.9.12"
    }
  },
  "nbformat": 4,
  "nbformat_minor": 0
}
